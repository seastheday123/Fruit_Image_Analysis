{
 "cells": [
  {
   "cell_type": "markdown",
   "metadata": {},
   "source": [
    "# Regression Analysis for MDS, TSNE, and PCA Scalling "
   ]
  },
  {
   "cell_type": "code",
   "execution_count": 28,
   "metadata": {},
   "outputs": [],
   "source": [
    "import matplotlib.pyplot as plt\n",
    "from sklearn.linear_model import LogisticRegression\n",
    "from sklearn.metrics import accuracy_score\n",
    "import pandas as pd\n",
    "from sklearn.model_selection import train_test_split\n",
    "from sklearn.model_selection import cross_val_score\n",
    "import numpy as np\n",
    "%config Completer.use_jedi = False"
   ]
  },
  {
   "cell_type": "markdown",
   "metadata": {},
   "source": [
    "###  Read in data"
   ]
  },
  {
   "cell_type": "code",
   "execution_count": 5,
   "metadata": {},
   "outputs": [
    {
     "data": {
      "text/html": [
       "<div>\n",
       "<style scoped>\n",
       "    .dataframe tbody tr th:only-of-type {\n",
       "        vertical-align: middle;\n",
       "    }\n",
       "\n",
       "    .dataframe tbody tr th {\n",
       "        vertical-align: top;\n",
       "    }\n",
       "\n",
       "    .dataframe thead th {\n",
       "        text-align: right;\n",
       "    }\n",
       "</style>\n",
       "<table border=\"1\" class=\"dataframe\">\n",
       "  <thead>\n",
       "    <tr style=\"text-align: right;\">\n",
       "      <th></th>\n",
       "      <th>num</th>\n",
       "      <th>Number</th>\n",
       "      <th>Fruit</th>\n",
       "      <th>x</th>\n",
       "      <th>y</th>\n",
       "      <th>z</th>\n",
       "    </tr>\n",
       "  </thead>\n",
       "  <tbody>\n",
       "    <tr>\n",
       "      <th>0</th>\n",
       "      <td>0</td>\n",
       "      <td>0</td>\n",
       "      <td>Apple Braeburn</td>\n",
       "      <td>-41.043967</td>\n",
       "      <td>-107.693648</td>\n",
       "      <td>-88.554706</td>\n",
       "    </tr>\n",
       "    <tr>\n",
       "      <th>1</th>\n",
       "      <td>1</td>\n",
       "      <td>0</td>\n",
       "      <td>Apple Braeburn</td>\n",
       "      <td>-34.765763</td>\n",
       "      <td>57.618670</td>\n",
       "      <td>-22.866320</td>\n",
       "    </tr>\n",
       "    <tr>\n",
       "      <th>2</th>\n",
       "      <td>2</td>\n",
       "      <td>0</td>\n",
       "      <td>Apple Braeburn</td>\n",
       "      <td>-36.508676</td>\n",
       "      <td>51.984085</td>\n",
       "      <td>-25.250339</td>\n",
       "    </tr>\n",
       "    <tr>\n",
       "      <th>3</th>\n",
       "      <td>3</td>\n",
       "      <td>0</td>\n",
       "      <td>Apple Braeburn</td>\n",
       "      <td>-43.754312</td>\n",
       "      <td>52.575582</td>\n",
       "      <td>-27.394515</td>\n",
       "    </tr>\n",
       "    <tr>\n",
       "      <th>4</th>\n",
       "      <td>4</td>\n",
       "      <td>0</td>\n",
       "      <td>Apple Braeburn</td>\n",
       "      <td>-43.819419</td>\n",
       "      <td>45.801030</td>\n",
       "      <td>-23.053853</td>\n",
       "    </tr>\n",
       "    <tr>\n",
       "      <th>...</th>\n",
       "      <td>...</td>\n",
       "      <td>...</td>\n",
       "      <td>...</td>\n",
       "      <td>...</td>\n",
       "      <td>...</td>\n",
       "      <td>...</td>\n",
       "    </tr>\n",
       "    <tr>\n",
       "      <th>67687</th>\n",
       "      <td>67687</td>\n",
       "      <td>130</td>\n",
       "      <td>Watermelon</td>\n",
       "      <td>98.937003</td>\n",
       "      <td>47.814529</td>\n",
       "      <td>148.544267</td>\n",
       "    </tr>\n",
       "    <tr>\n",
       "      <th>67688</th>\n",
       "      <td>67688</td>\n",
       "      <td>130</td>\n",
       "      <td>Watermelon</td>\n",
       "      <td>86.792808</td>\n",
       "      <td>70.545749</td>\n",
       "      <td>146.839740</td>\n",
       "    </tr>\n",
       "    <tr>\n",
       "      <th>67689</th>\n",
       "      <td>67689</td>\n",
       "      <td>130</td>\n",
       "      <td>Watermelon</td>\n",
       "      <td>140.491577</td>\n",
       "      <td>122.092144</td>\n",
       "      <td>1.310591</td>\n",
       "    </tr>\n",
       "    <tr>\n",
       "      <th>67690</th>\n",
       "      <td>67690</td>\n",
       "      <td>130</td>\n",
       "      <td>Watermelon</td>\n",
       "      <td>77.017471</td>\n",
       "      <td>62.021115</td>\n",
       "      <td>146.639501</td>\n",
       "    </tr>\n",
       "    <tr>\n",
       "      <th>67691</th>\n",
       "      <td>67691</td>\n",
       "      <td>130</td>\n",
       "      <td>Watermelon</td>\n",
       "      <td>109.303404</td>\n",
       "      <td>199.715437</td>\n",
       "      <td>149.152265</td>\n",
       "    </tr>\n",
       "  </tbody>\n",
       "</table>\n",
       "<p>67692 rows × 6 columns</p>\n",
       "</div>"
      ],
      "text/plain": [
       "         num  Number           Fruit           x           y           z\n",
       "0          0       0  Apple Braeburn  -41.043967 -107.693648  -88.554706\n",
       "1          1       0  Apple Braeburn  -34.765763   57.618670  -22.866320\n",
       "2          2       0  Apple Braeburn  -36.508676   51.984085  -25.250339\n",
       "3          3       0  Apple Braeburn  -43.754312   52.575582  -27.394515\n",
       "4          4       0  Apple Braeburn  -43.819419   45.801030  -23.053853\n",
       "...      ...     ...             ...         ...         ...         ...\n",
       "67687  67687     130      Watermelon   98.937003   47.814529  148.544267\n",
       "67688  67688     130      Watermelon   86.792808   70.545749  146.839740\n",
       "67689  67689     130      Watermelon  140.491577  122.092144    1.310591\n",
       "67690  67690     130      Watermelon   77.017471   62.021115  146.639501\n",
       "67691  67691     130      Watermelon  109.303404  199.715437  149.152265\n",
       "\n",
       "[67692 rows x 6 columns]"
      ]
     },
     "execution_count": 5,
     "metadata": {},
     "output_type": "execute_result"
    }
   ],
   "source": [
    "#Read in MDS scaled data\n",
    "MDS = pd.read_csv('fruit_data_MDS_3D.csv', encoding='utf-8', header =0)\n",
    "MDS_test = pd.read_csv('fruit_data_MDS_Test.csv', encoding='utf-8', header =0)\n",
    "\n",
    "#Read in TSNE scaled data\n",
    "TSNE = pd.read_csv('fruit_data_TSNE_3D.csv', encoding='utf-8', header =0)\n",
    "TSNE_test = pd.read_csv('fruit_data_TSNE_Test.csv', encoding='utf-8', header =0)\n",
    "\n",
    "#Read in PCA scaled data\n",
    "PCA = pd.read_csv('fruit_data_PCA_3D.csv', encoding='utf-8', header =0)\n",
    "PCA_test = pd.read_csv('fruit_data_PCA_Test.csv', encoding='utf-8', header =0)\n",
    "\n",
    "MDS"
   ]
  },
  {
   "cell_type": "markdown",
   "metadata": {},
   "source": [
    "### Clean up data so that it is useable "
   ]
  },
  {
   "cell_type": "code",
   "execution_count": 7,
   "metadata": {},
   "outputs": [],
   "source": [
    "#pull out the target values\n",
    "MDS_target = MDS['Number']\n",
    "MDS_test_target = MDS_test['Number']\n",
    "\n",
    "TSNE_target = TSNE['Number']\n",
    "TSNE_test_target = TSNE_test['Number']\n",
    "\n",
    "PCA_target = PCA['Number']\n",
    "PCA_test_target = PCA_test['Number']\n",
    "\n",
    "#pull out the names of the fuit (indexing same for all scallings)\n",
    "name_of_fruit = MDS['Fruit']\n",
    "\n",
    "#Drop irrelevent columbs and save them to a new array\n",
    "MDS_clean = MDS.drop(['num', 'Number', 'Fruit'], axis=1)\n",
    "MDS_test_clean = MDS_test.drop(['num', 'Number', 'Fruit'], axis=1)\n",
    "\n",
    "TSNE_clean = TSNE.drop(['num', 'Number', 'Fruit'], axis=1)\n",
    "TSNE_test_clean = TSNE_test.drop(['num', 'Number', 'Fruit'], axis=1)\n",
    "\n",
    "PCA_clean = PCA.drop(['num', 'Number', 'Fruit'], axis=1)\n",
    "PCA_test_clean = PCA_test.drop(['num', 'Number', 'Fruit'], axis=1)"
   ]
  },
  {
   "cell_type": "markdown",
   "metadata": {},
   "source": [
    "### Create RF models for all three scallings"
   ]
  },
  {
   "cell_type": "code",
   "execution_count": 19,
   "metadata": {},
   "outputs": [
    {
     "name": "stdout",
     "output_type": "stream",
     "text": [
      "0.01453642971104414 0.014456981664315938\n"
     ]
    }
   ],
   "source": [
    "#create logistic regression for MDS\n",
    "lg_MDS = LogisticRegression(max_iter = 100000) #increases the number of itterations that the model does from 100 --> 100,000\n",
    "lg_MDS.fit(MDS_clean, MDS_target)\n",
    "lg_MDS_train_pred = lg_MDS.predict(MDS_clean)\n",
    "lg_MDS_test_pred = lg_MDS.predict(MDS_test_clean)\n",
    "\n",
    "\n",
    "#print accuracy scores of the trainning and test\n",
    "training_acc_MDS = accuracy_score(lg_MDS_train_pred, MDS_target)\n",
    "test_acc_MDS = accuracy_score(lg_MDS_test_pred, MDS_test_target)\n",
    "print(training_acc_MDS , test_acc_MDS)"
   ]
  },
  {
   "cell_type": "code",
   "execution_count": 31,
   "metadata": {},
   "outputs": [
    {
     "name": "stdout",
     "output_type": "stream",
     "text": [
      "0.01458074809430952 0.014501057827926657\n"
     ]
    }
   ],
   "source": [
    "#create logistic regression for TSNE\n",
    "lg_TSNE = LogisticRegression(max_iter = 100000)\n",
    "lg_TSNE.fit(TSNE_clean, TSNE_target)\n",
    "lg_TSNE_train_pred = lg_TSNE.predict(TSNE_clean)\n",
    "lg_TSNE_test_pred = lg_TSNE.predict(TSNE_test_clean)\n",
    "\n",
    "\n",
    "#print accuracy scores of the trainning and test\n",
    "training_acc_TSNE = accuracy_score(lg_TSNE_train_pred, TSNE_target)\n",
    "test_acc_TSNE = accuracy_score(lg_TSNE_test_pred, TSNE_test_target)\n",
    "print(training_acc_TSNE , test_acc_TSNE)"
   ]
  },
  {
   "cell_type": "code",
   "execution_count": 21,
   "metadata": {},
   "outputs": [
    {
     "name": "stdout",
     "output_type": "stream",
     "text": [
      "0.01453642971104414 0.014456981664315938\n"
     ]
    }
   ],
   "source": [
    "#create logistic regression for MDS\n",
    "lg_PCA = LogisticRegression(max_iter = 100000)\n",
    "lg_PCA.fit(PCA_clean, PCA_target)\n",
    "lg_PCA_train_pred = lg_PCA.predict(PCA_clean)\n",
    "lg_PCA_test_pred = lg_PCA.predict(PCA_test_clean)\n",
    "\n",
    "\n",
    "#print accuracy scores of the trainning and test\n",
    "training_acc_PCA = accuracy_score(lg_PCA_train_pred, PCA_target)\n",
    "test_acc_PCA = accuracy_score(lg_PCA_test_pred, PCA_test_target)\n",
    "print(training_acc_PCA , test_acc_PCA)"
   ]
  },
  {
   "cell_type": "code",
   "execution_count": 43,
   "metadata": {},
   "outputs": [
    {
     "name": "stdout",
     "output_type": "stream",
     "text": [
      "0.01458074809430952 0.014501057827926657\n"
     ]
    }
   ],
   "source": [
    "#take the best one and tweak \n",
    "lg_TSNE = LogisticRegression(max_iter = 1000000)\n",
    "lg_TSNE.fit(TSNE_clean, TSNE_target)\n",
    "lg_TSNE_train_pred = lg_TSNE.predict(TSNE_clean)\n",
    "lg_TSNE_test_pred = lg_TSNE.predict(TSNE_test_clean)\n",
    "\n",
    "\n",
    "#print accuracy scores of the trainning and test\n",
    "training_acc_TSNE = accuracy_score(lg_TSNE_train_pred, TSNE_target)\n",
    "test_acc_TSNE = accuracy_score(lg_TSNE_test_pred, TSNE_test_target)\n",
    "print(training_acc_TSNE , test_acc_TSNE)"
   ]
  },
  {
   "cell_type": "code",
   "execution_count": null,
   "metadata": {},
   "outputs": [],
   "source": []
  }
 ],
 "metadata": {
  "kernelspec": {
   "display_name": "Python 3 (ipykernel)",
   "language": "python",
   "name": "python3"
  },
  "language_info": {
   "codemirror_mode": {
    "name": "ipython",
    "version": 3
   },
   "file_extension": ".py",
   "mimetype": "text/x-python",
   "name": "python",
   "nbconvert_exporter": "python",
   "pygments_lexer": "ipython3",
   "version": "3.9.7"
  }
 },
 "nbformat": 4,
 "nbformat_minor": 4
}
